{
 "cells": [
  {
   "cell_type": "markdown",
   "metadata": {},
   "source": [
    "# Тестовое задание от VK"
   ]
  },
  {
   "cell_type": "markdown",
   "metadata": {},
   "source": [
    "## Импортируем библиотеки\n",
    "> Пригодятся только для тестирования времени выполнения программы. В самой программе они не требуются."
   ]
  },
  {
   "cell_type": "code",
   "execution_count": 125,
   "metadata": {},
   "outputs": [],
   "source": [
    "import lorem # https://pypi.org/project/python-lorem/\n",
    "import random"
   ]
  },
  {
   "cell_type": "markdown",
   "metadata": {},
   "source": [
    "## Вводим используемые в проекте функции"
   ]
  },
  {
   "cell_type": "markdown",
   "metadata": {},
   "source": [
    "### rounder_upper - окруление числа в большую сторону"
   ]
  },
  {
   "cell_type": "markdown",
   "metadata": {},
   "source": [
    "На вход поступает `float` число, из которого выходит `int`, округленное в большую сторону\n",
    "```\n",
    "3.45 -> 4\n",
    "5.7 -> 6\n",
    "9.0 -> 9\n",
    "```"
   ]
  },
  {
   "cell_type": "code",
   "execution_count": 127,
   "metadata": {},
   "outputs": [],
   "source": [
    "def rounder_upper(num: float) -> int:\n",
    "    \"Округление float числа в большую сторону\"\n",
    "    int_part = int(str(num).split('.')[0])\n",
    "    if num == int_part:\n",
    "        return int(num)\n",
    "    else:\n",
    "        return int(num + (1-(num - int_part)))"
   ]
  },
  {
   "cell_type": "markdown",
   "metadata": {},
   "source": [
    "### calculate_suffix_len - расчет длины суффикса в зависимости от количества секций в выходной строке"
   ]
  },
  {
   "cell_type": "markdown",
   "metadata": {},
   "source": [
    "На вход поступает длина исходной строки (с учетом пробелов) в `int`. На выходе получаем необходимое количество символов, которые нужно оставить \"про запас\" в выходной строке."
   ]
  },
  {
   "cell_type": "code",
   "execution_count": 135,
   "metadata": {},
   "outputs": [],
   "source": [
    "def calculate_suffix_len(string_len: int) -> int:\n",
    "    \"Расчет длины суффикса в зависимости от количества секций\"\n",
    "    sections = rounder_upper(string_len/140) # получаем примерное количество секций, которое будет в результате работы нашего ПО\n",
    "    if sections <= 9: # 9 секций дают следующий формат вывода: N/N - а это три символа. Именно такое количество мы и резервируем\n",
    "        return 3\n",
    "    elif sections > 9 and sections <= 99: # от 10 до 99 секций дают следующий формат вывода: NN/NN - а это пять символов\n",
    "        return 5\n",
    "    elif sections > 99 and sections <= 999: # от 100 до 999 секций дают следующий формат вывода: NNN/NNN - а это пять символов\n",
    "        return 7\n",
    "    else: # по ТЗ количество секций не может быть больше 9999, поэтому ограничимся 9 резервными символами - NNNN/NNNN\n",
    "        return 9"
   ]
  },
  {
   "cell_type": "markdown",
   "metadata": {},
   "source": [
    "#### Демонстрация работы"
   ]
  },
  {
   "cell_type": "code",
   "execution_count": 136,
   "metadata": {},
   "outputs": [
    {
     "name": "stdout",
     "output_type": "stream",
     "text": [
      "string len -> number of sections -> suffix len\n",
      "34434 -> 246 -> 7\n",
      "48095 -> 344 -> 7\n",
      "21477 -> 154 -> 7\n",
      "43007 -> 308 -> 7\n",
      "16233 -> 116 -> 7\n",
      "39539 -> 283 -> 7\n",
      "9589 -> 69 -> 5\n",
      "19929 -> 143 -> 7\n",
      "42570 -> 305 -> 7\n"
     ]
    }
   ],
   "source": [
    "k = 1\n",
    "print('string len -> number of sections -> suffix len')\n",
    "while k !=10:\n",
    "    ran = random.randint(30, 50000)\n",
    "    print(f'{ran} -> {rounder_upper(ran/140)} -> {calculate_suffix_len(ran)}')\n",
    "    k+=1"
   ]
  },
  {
   "cell_type": "markdown",
   "metadata": {},
   "source": [
    "### line_separator - основная функция, выполняющая разделение строки на несколько секций."
   ]
  },
  {
   "cell_type": "markdown",
   "metadata": {},
   "source": [
    "ТЗ:\n",
    "\n",
    "1. Функция принимает на вход текст, написанный латиницей, где все слова\n",
    "разделены только 1 пробелом. Текст содержит в себе только латинские буквы и\n",
    "пробелы (без знаков препинания).   \n",
    "2. Задача функции разбить текст на СМСки размером не больше 140 символов и\n",
    "вернуть в результате массив получившихся строк.   \n",
    "3. Так как СМСки платные важно разбить текст на минимальное количество\n",
    "фрагментов.   \n",
    "4. Слова нельзя разбивать посередине, то есть текст нужно разбить строго по\n",
    "пробелам.   \n",
    "5. Если весь текст не помещается в один фрагмент то каждый фрагмент должен\n",
    "заканчиваться суффиксом ' k/n', где k - порядковый номер фрагмента, n -\n",
    "количество фрагментов, на которые разбит текст. k <= n <= 9999.   \n",
    "6. Суффикс учитывается при подсчете длины СМСки, то есть длина фрагмента\n",
    "вместе с суффиксом должна быть меньше или равна 140 символам.   \n",
    "7. Задача решаема, то есть в тексте не может быть настолько длинных слов, чтобы\n",
    "одно слово с суффиксом не уместилось в одном СМС.   "
   ]
  },
  {
   "cell_type": "code",
   "execution_count": 129,
   "metadata": {},
   "outputs": [],
   "source": [
    "def line_separator(current_line: str) -> list:\n",
    "    \"Разделение строки на несколько блоков, содержащих максимум по 140 символов с добавлением суффикса\"\n",
    "    if len(current_line) <= 140:\n",
    "        return [current_line]\n",
    "    else: \n",
    "        total_len = 140 - calculate_suffix_len(len(current_line)) # получаем длину суффикса - именно такое количество символов должны мы зарезервировать из 140 символов\n",
    "        sections_num = rounder_upper(len(current_line)/(total_len)) # считаем количество секций, которое будет в выходном сообщении\n",
    "        split_line = current_line.split() # разделяем исходную строку по пробелу\n",
    "        counter = 0 # добавляем счетчик и несколько пустых списков, для дальнейшей работы\n",
    "        string = []\n",
    "        total_string = []\n",
    "        for element in split_line: # проходимся по всем элементам списка и проверяем их длину\n",
    "            # если общая длина строки выходит за допустимую - объединяем получившуюся строку и продолжаем итерацию, очистив счетчик и временный список\n",
    "            if counter+len(element) >= total_len: \n",
    "                counter = len(element)\n",
    "                total_string.append(' '.join(string))\n",
    "                string = [element]\n",
    "            # иначе - продолжаем итерацию, до тех пор пока длина получившейся строки не достигает нужной длины\n",
    "            else:\n",
    "                counter+=len(element)\n",
    "                string.append(element)\n",
    "        total_string.append(' '.join(string)) # прибавляем в список последний получившийся элемент\n",
    "\n",
    "        # теперь работаем с суффиксами - добавляем их к концу каждой строки\n",
    "        counter = 1\n",
    "        for i in range(0, len(total_string)):\n",
    "            total_string[i] = total_string[i]+f' {counter}/{len(total_string)}'\n",
    "            counter+=1\n",
    "        return total_string"
   ]
  },
  {
   "cell_type": "markdown",
   "metadata": {},
   "source": [
    "### Тесты"
   ]
  },
  {
   "cell_type": "markdown",
   "metadata": {},
   "source": [
    "### Тест №1. Строка, содержащая до 140 символов."
   ]
  },
  {
   "cell_type": "code",
   "execution_count": 142,
   "metadata": {},
   "outputs": [
    {
     "data": {
      "text/plain": [
       "['ut ex enim proident ullamco']"
      ]
     },
     "execution_count": 142,
     "metadata": {},
     "output_type": "execute_result"
    }
   ],
   "source": [
    "line_separator(lorem.get_word(count=8))"
   ]
  },
  {
   "cell_type": "markdown",
   "metadata": {},
   "source": [
    "#### Замеры времени выполнения по заготовленной строке\n",
    "> Для объективной оценки времени выполнения, воспользуемся заготовленной строкой"
   ]
  },
  {
   "cell_type": "code",
   "execution_count": 143,
   "metadata": {},
   "outputs": [
    {
     "name": "stdout",
     "output_type": "stream",
     "text": [
      "888 ns ± 3.39 ns per loop (mean ± std. dev. of 7 runs, 1,000,000 loops each)\n"
     ]
    }
   ],
   "source": [
    "%%timeit\n",
    "line_separator('Lorem ipsum dolor sit amet consectetur adipiscing elit')"
   ]
  },
  {
   "cell_type": "markdown",
   "metadata": {},
   "source": [
    "> Обратите внимание, в данном тесте используется подключаемая библиотека с генератором текста, что может замедлить выполнение программы"
   ]
  },
  {
   "cell_type": "code",
   "execution_count": 144,
   "metadata": {},
   "outputs": [
    {
     "name": "stdout",
     "output_type": "stream",
     "text": [
      "116 µs ± 948 ns per loop (mean ± std. dev. of 7 runs, 10,000 loops each)\n"
     ]
    }
   ],
   "source": [
    "%%timeit\n",
    "line_separator(lorem.get_word(count=8))"
   ]
  },
  {
   "cell_type": "markdown",
   "metadata": {},
   "source": [
    "### Тест №2. Строка, содержащая свыше 140 символов."
   ]
  },
  {
   "cell_type": "markdown",
   "metadata": {},
   "source": [
    "> Обратите внимание, в данном тесте используется подключаемая библиотека с генератором текста, что может замедлить выполнение программы"
   ]
  },
  {
   "cell_type": "code",
   "execution_count": 145,
   "metadata": {},
   "outputs": [
    {
     "data": {
      "text/plain": [
       "['nisi amet ullamco voluptate excepteur consectetur incididunt dolor culpa ea consequat enim velit tempor enim eiusmod ex aliqua sed 1/7',\n",
       " 'nulla eiusmod cupidatat irure incididunt lorem aute reprehenderit laboris non consequat nisi lorem occaecat non sit incididunt labore 2/7',\n",
       " 'ullamco occaecat in cillum commodo cupidatat sed pariatur quis ut incididunt non elit lorem eu incididunt exercitation deserunt esse 3/7',\n",
       " 'enim velit laborum incididunt occaecat aliquip ullamco sint mollit dolore quis adipiscing adipiscing et voluptate culpa deserunt minim 4/7',\n",
       " 'voluptate aute ex cupidatat aute voluptate cupidatat occaecat elit fugiat exercitation culpa culpa et laborum incididunt aliqua eiusmod 5/7',\n",
       " 'amet nostrud id sunt sed commodo laborum excepteur adipiscing cupidatat cillum pariatur dolore magna veniam eu pariatur ex consectetur 6/7',\n",
       " 'consectetur qui 7/7']"
      ]
     },
     "execution_count": 145,
     "metadata": {},
     "output_type": "execute_result"
    }
   ],
   "source": [
    "line_separator(lorem.get_word(count=random.randint(100, 120)))"
   ]
  },
  {
   "cell_type": "markdown",
   "metadata": {},
   "source": [
    "#### Замер с использованием генератора слов"
   ]
  },
  {
   "cell_type": "code",
   "execution_count": 131,
   "metadata": {},
   "outputs": [
    {
     "name": "stdout",
     "output_type": "stream",
     "text": [
      "15.9 ms ± 254 µs per loop (mean ± std. dev. of 7 runs, 100 loops each)\n"
     ]
    }
   ],
   "source": [
    "%%timeit\n",
    "line_separator(lorem.get_word(count=random.randint(1000, 1200)))\n",
    "# line_separator(sample_line)"
   ]
  },
  {
   "cell_type": "code",
   "execution_count": 132,
   "metadata": {},
   "outputs": [
    {
     "name": "stdout",
     "output_type": "stream",
     "text": [
      "355 µs ± 3.21 µs per loop (mean ± std. dev. of 7 runs, 1,000 loops each)\n"
     ]
    }
   ],
   "source": [
    "%%timeit\n",
    "line_separator(sample_line)"
   ]
  }
 ],
 "metadata": {
  "kernelspec": {
   "display_name": "Python 3",
   "language": "python",
   "name": "python3"
  },
  "language_info": {
   "codemirror_mode": {
    "name": "ipython",
    "version": 3
   },
   "file_extension": ".py",
   "mimetype": "text/x-python",
   "name": "python",
   "nbconvert_exporter": "python",
   "pygments_lexer": "ipython3",
   "version": "3.10.7"
  },
  "orig_nbformat": 4,
  "vscode": {
   "interpreter": {
    "hash": "4a4aca0c14410736538bc22f4c63fcff0fb2119c2ddd24e186890533091678b1"
   }
  }
 },
 "nbformat": 4,
 "nbformat_minor": 2
}

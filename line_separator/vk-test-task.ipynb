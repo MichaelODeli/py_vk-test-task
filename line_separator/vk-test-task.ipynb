{
 "cells": [
  {
   "cell_type": "markdown",
   "metadata": {},
   "source": [
    "# Тестовое задание от VK"
   ]
  },
  {
   "cell_type": "markdown",
   "metadata": {},
   "source": [
    "## Импортируем библиотеки\n",
    "> Пригодятся только для тестирования времени выполнения программы. В самой программе они не требуются."
   ]
  },
  {
   "cell_type": "code",
   "execution_count": 1,
   "metadata": {},
   "outputs": [],
   "source": [
    "import lorem # https://pypi.org/project/python-lorem/\n",
    "import random"
   ]
  },
  {
   "cell_type": "markdown",
   "metadata": {},
   "source": [
    "## Вводим используемые в проекте функции"
   ]
  },
  {
   "cell_type": "markdown",
   "metadata": {},
   "source": [
    "### rounder_upper - окруление числа в большую сторону"
   ]
  },
  {
   "cell_type": "markdown",
   "metadata": {},
   "source": [
    "На вход поступает `float` число, из которого выходит `int`, округленное в большую сторону\n",
    "```\n",
    "3.45 -> 4\n",
    "5.7 -> 6\n",
    "9.0 -> 9\n",
    "```"
   ]
  },
  {
   "cell_type": "code",
   "execution_count": 2,
   "metadata": {},
   "outputs": [],
   "source": [
    "def rounder_upper(num: float) -> int:\n",
    "    \"Округление float числа в большую сторону\"\n",
    "    int_part = int(str(num).split('.')[0])\n",
    "    if num == int_part:\n",
    "        return int(num)\n",
    "    else:\n",
    "        return int(num + (1-(num - int_part)))"
   ]
  },
  {
   "cell_type": "markdown",
   "metadata": {},
   "source": [
    "### calculate_suffix_len - расчет длины суффикса в зависимости от количества секций в выходной строке"
   ]
  },
  {
   "cell_type": "markdown",
   "metadata": {},
   "source": [
    "На вход поступает длина исходной строки (с учетом пробелов) в `int`. На выходе получаем необходимое количество символов, которые нужно оставить \"про запас\" в выходной строке."
   ]
  },
  {
   "cell_type": "code",
   "execution_count": 3,
   "metadata": {},
   "outputs": [],
   "source": [
    "def calculate_suffix_len(string_len: int) -> int:\n",
    "    \"Расчет длины суффикса в зависимости от количества секций\"\n",
    "    sections = rounder_upper(string_len/140) # получаем примерное количество секций, которое будет в результате работы нашего ПО\n",
    "    if sections <= 9: # 9 секций дают следующий формат вывода: N/N - а это три символа. Именно такое количество мы и резервируем\n",
    "        return 3\n",
    "    elif sections > 9 and sections <= 99: # от 10 до 99 секций дают следующий формат вывода: NN/NN - а это пять символов\n",
    "        return 5\n",
    "    elif sections > 99 and sections <= 999: # от 100 до 999 секций дают следующий формат вывода: NNN/NNN - а это семь символов\n",
    "        return 7\n",
    "    else: # по ТЗ количество секций не может быть больше 9999, поэтому ограничимся 9 резервными символами - NNNN/NNNN\n",
    "        return 9"
   ]
  },
  {
   "cell_type": "markdown",
   "metadata": {},
   "source": [
    "#### Демонстрация работы"
   ]
  },
  {
   "cell_type": "code",
   "execution_count": 4,
   "metadata": {},
   "outputs": [
    {
     "name": "stdout",
     "output_type": "stream",
     "text": [
      "string len -> number of sections -> suffix len\n",
      "665 -> 5 -> 3\n",
      "42031 -> 301 -> 7\n",
      "39131 -> 280 -> 7\n",
      "6013 -> 43 -> 5\n",
      "4017 -> 29 -> 5\n",
      "48938 -> 350 -> 7\n",
      "42225 -> 302 -> 7\n",
      "19216 -> 138 -> 7\n",
      "15155 -> 109 -> 7\n"
     ]
    }
   ],
   "source": [
    "k = 1\n",
    "print('string len -> number of sections -> suffix len')\n",
    "while k !=10:\n",
    "    ran = random.randint(30, 50000)\n",
    "    print(f'{ran} -> {rounder_upper(ran/140)} -> {calculate_suffix_len(ran)}')\n",
    "    k+=1"
   ]
  },
  {
   "cell_type": "markdown",
   "metadata": {},
   "source": [
    "### line_separator - основная функция, выполняющая разделение строки на несколько секций."
   ]
  },
  {
   "cell_type": "markdown",
   "metadata": {},
   "source": [
    "ТЗ:\n",
    "\n",
    "1. Функция принимает на вход текст, написанный латиницей, где все слова\n",
    "разделены только 1 пробелом. Текст содержит в себе только латинские буквы и\n",
    "пробелы (без знаков препинания).   \n",
    "2. Задача функции разбить текст на СМСки размером не больше 140 символов и\n",
    "вернуть в результате массив получившихся строк.   \n",
    "3. Так как СМСки платные важно разбить текст на минимальное количество\n",
    "фрагментов.   \n",
    "4. Слова нельзя разбивать посередине, то есть текст нужно разбить строго по\n",
    "пробелам.   \n",
    "5. Если весь текст не помещается в один фрагмент то каждый фрагмент должен\n",
    "заканчиваться суффиксом ' k/n', где k - порядковый номер фрагмента, n -\n",
    "количество фрагментов, на которые разбит текст. k <= n <= 9999.   \n",
    "6. Суффикс учитывается при подсчете длины СМСки, то есть длина фрагмента\n",
    "вместе с суффиксом должна быть меньше или равна 140 символам.   \n",
    "7. Задача решаема, то есть в тексте не может быть настолько длинных слов, чтобы\n",
    "одно слово с суффиксом не уместилось в одном СМС.   "
   ]
  },
  {
   "cell_type": "code",
   "execution_count": 5,
   "metadata": {},
   "outputs": [],
   "source": [
    "def line_separator(current_line: str) -> list:\n",
    "    \"Разделение строки на несколько блоков, содержащих максимум по 140 символов с добавлением суффикса\"\n",
    "    if len(current_line) <= 140:\n",
    "        return [current_line]\n",
    "    else: \n",
    "        total_len = 140 - calculate_suffix_len(len(current_line)) # получаем длину суффикса - именно такое количество символов должны мы зарезервировать из 140 символов\n",
    "        sections_num = rounder_upper(len(current_line)/(total_len)) # считаем количество секций, которое будет в выходном сообщении\n",
    "        split_line = current_line.split() # разделяем исходную строку по пробелу\n",
    "        counter = 0 # добавляем счетчик и несколько пустых списков, для дальнейшей работы\n",
    "        string = []\n",
    "        total_string = []\n",
    "        for element in split_line: # проходимся по всем элементам списка и проверяем их длину\n",
    "            # если общая длина строки выходит за допустимую - объединяем получившуюся строку и продолжаем итерацию, очистив счетчик и временный список\n",
    "            if counter+len(element) >= total_len: \n",
    "                counter = len(element)\n",
    "                total_string.append(' '.join(string))\n",
    "                string = [element]\n",
    "            # иначе - продолжаем итерацию, до тех пор пока длина получившейся строки не достигает нужной длины\n",
    "            else:\n",
    "                counter+=len(element)\n",
    "                string.append(element)\n",
    "        total_string.append(' '.join(string)) # прибавляем в список последний получившийся элемент\n",
    "\n",
    "        # теперь работаем с суффиксами - добавляем их к концу каждой строки\n",
    "        counter = 1\n",
    "        for i in range(0, len(total_string)):\n",
    "            total_string[i] = total_string[i]+f' {counter}/{len(total_string)}'\n",
    "            counter+=1\n",
    "        return total_string"
   ]
  },
  {
   "cell_type": "markdown",
   "metadata": {},
   "source": [
    "### Тесты"
   ]
  },
  {
   "cell_type": "markdown",
   "metadata": {},
   "source": [
    "### Тест №1. Строка, содержащая до 140 символов."
   ]
  },
  {
   "cell_type": "code",
   "execution_count": 6,
   "metadata": {},
   "outputs": [
    {
     "data": {
      "text/plain": [
       "['eiusmod laborum sit ullamco veniam aliquip magna labore']"
      ]
     },
     "execution_count": 6,
     "metadata": {},
     "output_type": "execute_result"
    }
   ],
   "source": [
    "line_separator(lorem.get_word(count=8))"
   ]
  },
  {
   "cell_type": "markdown",
   "metadata": {},
   "source": [
    "#### Замеры времени выполнения по заготовленной строке\n",
    "> Для объективной оценки времени выполнения, воспользуемся заготовленной строкой"
   ]
  },
  {
   "cell_type": "code",
   "execution_count": 7,
   "metadata": {},
   "outputs": [
    {
     "name": "stdout",
     "output_type": "stream",
     "text": [
      "82.5 ns ± 0.731 ns per loop (mean ± std. dev. of 7 runs, 10,000,000 loops each)\n"
     ]
    }
   ],
   "source": [
    "%%timeit\n",
    "line_separator('Lorem ipsum dolor sit amet consectetur adipiscing elit')"
   ]
  },
  {
   "cell_type": "markdown",
   "metadata": {},
   "source": [
    "> Обратите внимание, в данном тесте используется подключаемая библиотека с генератором текста, что может замедлить выполнение программы"
   ]
  },
  {
   "cell_type": "code",
   "execution_count": 8,
   "metadata": {},
   "outputs": [
    {
     "name": "stdout",
     "output_type": "stream",
     "text": [
      "113 µs ± 569 ns per loop (mean ± std. dev. of 7 runs, 10,000 loops each)\n"
     ]
    }
   ],
   "source": [
    "%%timeit\n",
    "line_separator(lorem.get_word(count=8))"
   ]
  },
  {
   "cell_type": "markdown",
   "metadata": {},
   "source": [
    "### Тест №2. Строка, содержащая свыше 140 символов."
   ]
  },
  {
   "cell_type": "markdown",
   "metadata": {},
   "source": [
    "> Обратите внимание, в данном тесте используется подключаемая библиотека с генератором текста, что может замедлить выполнение программы"
   ]
  },
  {
   "cell_type": "code",
   "execution_count": 9,
   "metadata": {},
   "outputs": [
    {
     "data": {
      "text/plain": [
       "['incididunt ullamco ad eiusmod duis laborum ut tempor do sed officia et cillum ullamco aute incididunt ad pariatur amet reprehenderit ut nulla lorem culpa 1/5',\n",
       " 'voluptate deserunt aliquip tempor duis nostrud irure consectetur elit fugiat nisi pariatur nulla non sint sit sint ex enim excepteur incididunt culpa esse aute 2/5',\n",
       " 'proident labore est duis veniam sunt est officia et magna excepteur ut eiusmod ut ut et in officia lorem lorem culpa in minim nulla duis in labore anim dolor dolor 3/5',\n",
       " 'proident eu sint incididunt exercitation nisi excepteur sed ipsum nulla duis aute esse nulla minim reprehenderit sed consectetur nulla incididunt pariatur 4/5',\n",
       " 'ullamco ullamco 5/5']"
      ]
     },
     "execution_count": 9,
     "metadata": {},
     "output_type": "execute_result"
    }
   ],
   "source": [
    "line_separator(lorem.get_word(count=random.randint(100, 120)))"
   ]
  },
  {
   "cell_type": "markdown",
   "metadata": {},
   "source": [
    "#### Замер с использованием генератора слов"
   ]
  },
  {
   "cell_type": "code",
   "execution_count": 10,
   "metadata": {},
   "outputs": [
    {
     "name": "stdout",
     "output_type": "stream",
     "text": [
      "15.9 ms ± 225 µs per loop (mean ± std. dev. of 7 runs, 100 loops each)\n"
     ]
    }
   ],
   "source": [
    "%%timeit\n",
    "line_separator(lorem.get_word(count=random.randint(1000, 1200)))\n",
    "# line_separator(sample_line)"
   ]
  },
  {
   "cell_type": "code",
   "execution_count": 12,
   "metadata": {},
   "outputs": [],
   "source": [
    "sample_line = 'Lorem ipsum dolor sit amet consectetur adipiscing elit sed do eiusmod tempor incididunt ut labore et dolore magna aliqua Faucibus turpis in eu mi bibendum neque egestas Risus pretium quam vulputate dignissim suspendisse in est ante Non curabitur gravida arcu ac tortor dignissim convallis aenean Lacus suspendisse faucibus interdum posuere lorem ipsum dolor sit Morbi tincidunt augue interdum velit euismod in pellentesque Quis hendrerit dolor magna eget est Tempus iaculis urna id volutpat lacus laoreet Tortor consequat id porta nibh venenatis Etiam tempor orci eu lobortis elementum nibh tellus molestie Tortor condimentum lacinia quis vel Placerat duis ultricies lacus sed turpis tincidunt Adipiscing enim eu turpis egestas pretium aenean Donec massa sapien faucibus et molestie ac feugiat sed lectus Dictum at tempor commodo ullamcorper a lacus vestibulum sed arcu Odio facilisis mauris sit amet massa vitae tortor condimentum lacinia Quis lectus nulla at volutpat diam ut venenatis tellus in Tellus cras adipiscing enim eu turpis egestas pretium aenean Nulla facilisi etiam dignissim diam quis enim lobortis Orci a scelerisque purus semper eget Nunc eget lorem dolor sed viverra ipsum nunc aliquet Scelerisque viverra mauris in aliquam sem fringilla ut Sit amet tellus cras adipiscing enim Volutpat diam ut venenatis tellus in metus vulputate eu scelerisque Arcu dui vivamus arcu felis bibendum Sagittis orci a scelerisque purus semper eget duis at tellus A diam maecenas sed enim ut sem Scelerisque purus semper eget duis Pharetra vel turpis nunc eget lorem dolor sed Non tellus orci ac auctor augue mauris augue neque gravida Proin sagittis nisl rhoncus mattis rhoncus Ipsum dolor sit amet consectetur adipiscing elit ut aliquam Lacus sed turpis tincidunt id Vel pharetra vel turpis nunc eget Massa eget egestas purus viverra accumsan Vestibulum lectus mauris ultrices eros in cursus Eget gravida cum sociis natoque penatibus et Lacus suspendisse faucibus interdum posuere lorem ipsum dolor sit amet Nec feugiat nisl pretium fusce id velit Semper quis lectus nulla at volutpat Vitae proin sagittis nisl rhoncus Mattis vulputate enim nulla aliquet porttitor lacus luctus accumsan tortor Arcu non odio euismod lacinia at Proin sed libero enim sed faucibus Lacus suspendisse faucibus interdum posuere lorem ipsum Sagittis orci a scelerisque purus semper eget duis at Suscipit adipiscing bibendum est ultricies integer quis auctor Egestas pretium aenean pharetra magna ac placerat Pulvinar sapien et ligula ullamcorper Nulla facilisi morbi tempus iaculis urna id volutpat lacus laoreet Placerat vestibulum lectus mauris ultrices eros in cursus Tristique et egestas quis ipsum suspendisse ultrices Diam phasellus vestibulum lorem sed risus ultricies Id volutpat lacus laoreet non curabitur gravida arcu Sed blandit libero volutpat sed cras ornare arcu dui vivamus In nibh mauris cursus mattis molestie a iaculis Dolor purus non enim praesent elementum facilisis Maecenas volutpat blandit aliquam etiam erat velit Odio euismod lacinia at quis risus Turpis egestas pretium aenean pharetra Integer enim neque volutpat ac tincidunt vitae Rhoncus mattis rhoncus urna neque viverra Nunc sed velit dignissim sodales ut eu sem Iaculis urna id volutpat lacus laoreet non curabitur gravida At quis risus sed vulputate odio ut enim Consequat nisl vel pretium lectus quam id leo in vitae Egestas fringilla phasellus faucibus scelerisque In iaculis nunc sed augue lacus viverra Est sit amet facilisis magna etiam tempor orci eu lobortis Quam id leo in vitae turpis Ipsum dolor sit amet consectetur adipiscing elit pellentesque habitant morbi'"
   ]
  },
  {
   "cell_type": "code",
   "execution_count": 13,
   "metadata": {},
   "outputs": [
    {
     "name": "stdout",
     "output_type": "stream",
     "text": [
      "69.6 µs ± 930 ns per loop (mean ± std. dev. of 7 runs, 10,000 loops each)\n"
     ]
    }
   ],
   "source": [
    "%%timeit\n",
    "line_separator(sample_line)"
   ]
  },
  {
   "cell_type": "code",
   "execution_count": 14,
   "metadata": {},
   "outputs": [
    {
     "data": {
      "text/plain": [
       "['Lorem ipsum dolor sit amet consectetur adipiscing elit sed do eiusmod tempor incididunt ut labore et dolore magna aliqua Faucibus turpis in eu mi bibendum 1/24',\n",
       " 'neque egestas Risus pretium quam vulputate dignissim suspendisse in est ante Non curabitur gravida arcu ac tortor dignissim convallis aenean Lacus 2/24',\n",
       " 'suspendisse faucibus interdum posuere lorem ipsum dolor sit Morbi tincidunt augue interdum velit euismod in pellentesque Quis hendrerit dolor magna eget 3/24',\n",
       " 'est Tempus iaculis urna id volutpat lacus laoreet Tortor consequat id porta nibh venenatis Etiam tempor orci eu lobortis elementum nibh tellus molestie 4/24',\n",
       " 'Tortor condimentum lacinia quis vel Placerat duis ultricies lacus sed turpis tincidunt Adipiscing enim eu turpis egestas pretium aenean Donec massa sapien 5/24',\n",
       " 'faucibus et molestie ac feugiat sed lectus Dictum at tempor commodo ullamcorper a lacus vestibulum sed arcu Odio facilisis mauris sit amet massa vitae tortor 6/24',\n",
       " 'condimentum lacinia Quis lectus nulla at volutpat diam ut venenatis tellus in Tellus cras adipiscing enim eu turpis egestas pretium aenean Nulla facilisi 7/24',\n",
       " 'etiam dignissim diam quis enim lobortis Orci a scelerisque purus semper eget Nunc eget lorem dolor sed viverra ipsum nunc aliquet Scelerisque viverra mauris 8/24',\n",
       " 'in aliquam sem fringilla ut Sit amet tellus cras adipiscing enim Volutpat diam ut venenatis tellus in metus vulputate eu scelerisque Arcu dui vivamus arcu 9/24',\n",
       " 'felis bibendum Sagittis orci a scelerisque purus semper eget duis at tellus A diam maecenas sed enim ut sem Scelerisque purus semper eget duis Pharetra vel 10/24',\n",
       " 'turpis nunc eget lorem dolor sed Non tellus orci ac auctor augue mauris augue neque gravida Proin sagittis nisl rhoncus mattis rhoncus Ipsum dolor sit amet 11/24',\n",
       " 'consectetur adipiscing elit ut aliquam Lacus sed turpis tincidunt id Vel pharetra vel turpis nunc eget Massa eget egestas purus viverra accumsan Vestibulum 12/24',\n",
       " 'lectus mauris ultrices eros in cursus Eget gravida cum sociis natoque penatibus et Lacus suspendisse faucibus interdum posuere lorem ipsum dolor sit amet Nec 13/24',\n",
       " 'feugiat nisl pretium fusce id velit Semper quis lectus nulla at volutpat Vitae proin sagittis nisl rhoncus Mattis vulputate enim nulla aliquet porttitor 14/24',\n",
       " 'lacus luctus accumsan tortor Arcu non odio euismod lacinia at Proin sed libero enim sed faucibus Lacus suspendisse faucibus interdum posuere lorem ipsum 15/24',\n",
       " 'Sagittis orci a scelerisque purus semper eget duis at Suscipit adipiscing bibendum est ultricies integer quis auctor Egestas pretium aenean pharetra magna 16/24',\n",
       " 'ac placerat Pulvinar sapien et ligula ullamcorper Nulla facilisi morbi tempus iaculis urna id volutpat lacus laoreet Placerat vestibulum lectus mauris 17/24',\n",
       " 'ultrices eros in cursus Tristique et egestas quis ipsum suspendisse ultrices Diam phasellus vestibulum lorem sed risus ultricies Id volutpat lacus laoreet 18/24',\n",
       " 'non curabitur gravida arcu Sed blandit libero volutpat sed cras ornare arcu dui vivamus In nibh mauris cursus mattis molestie a iaculis Dolor purus non enim 19/24',\n",
       " 'praesent elementum facilisis Maecenas volutpat blandit aliquam etiam erat velit Odio euismod lacinia at quis risus Turpis egestas pretium aenean pharetra 20/24',\n",
       " 'Integer enim neque volutpat ac tincidunt vitae Rhoncus mattis rhoncus urna neque viverra Nunc sed velit dignissim sodales ut eu sem Iaculis urna id volutpat 21/24',\n",
       " 'lacus laoreet non curabitur gravida At quis risus sed vulputate odio ut enim Consequat nisl vel pretium lectus quam id leo in vitae Egestas fringilla phasellus 22/24',\n",
       " 'faucibus scelerisque In iaculis nunc sed augue lacus viverra Est sit amet facilisis magna etiam tempor orci eu lobortis Quam id leo in vitae turpis Ipsum dolor 23/24',\n",
       " 'sit amet consectetur adipiscing elit pellentesque habitant morbi 24/24']"
      ]
     },
     "execution_count": 14,
     "metadata": {},
     "output_type": "execute_result"
    }
   ],
   "source": [
    "line_separator(sample_line)"
   ]
  }
 ],
 "metadata": {
  "kernelspec": {
   "display_name": "Python 3",
   "language": "python",
   "name": "python3"
  },
  "language_info": {
   "codemirror_mode": {
    "name": "ipython",
    "version": 3
   },
   "file_extension": ".py",
   "mimetype": "text/x-python",
   "name": "python",
   "nbconvert_exporter": "python",
   "pygments_lexer": "ipython3",
   "version": "3.10.7"
  },
  "orig_nbformat": 4,
  "vscode": {
   "interpreter": {
    "hash": "4a4aca0c14410736538bc22f4c63fcff0fb2119c2ddd24e186890533091678b1"
   }
  }
 },
 "nbformat": 4,
 "nbformat_minor": 2
}
